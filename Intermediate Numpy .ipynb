{
 "cells": [
  {
   "cell_type": "markdown",
   "id": "08e540a3",
   "metadata": {},
   "source": [
    "## Linear algebra"
   ]
  },
  {
   "cell_type": "raw",
   "id": "8a0f1b43",
   "metadata": {},
   "source": [
    "# NumPy Matrix Operations and # NumPy Linear Algebra Functions\n",
    "Functions\tDescriptions\n",
    "array()\tcreates a matrix\n",
    "dot()\tperforms matrix multiplication\n",
    "transpose()\ttransposes a matrix\n",
    "linalg.inv()\tcalculates the inverse of a matrix\n",
    "linalg.det()\tcalculates the determinant of a matrix\n",
    "flatten()\ttransforms a matrix into 1D array\n",
    "\n",
    "Operators\tDescriptions\n",
    "dot()\tcalculates product of two arrays\n",
    "inner()\tcalculates inner product of arrays\n",
    "outer()\tcalculates outer product of arrays\n",
    "det()\tcalculates determinant of a matrix\n",
    "solve()\tsolves linear matrix equation\n",
    "inv()\tcalculates the multiplicative inverse of the matrix\n",
    "trace()\tcalculates the sum of diagonal elements"
   ]
  },
  {
   "cell_type": "markdown",
   "id": "5c1cab67",
   "metadata": {},
   "source": [
    "# Matrix"
   ]
  },
  {
   "cell_type": "code",
   "execution_count": 1,
   "id": "be733544",
   "metadata": {},
   "outputs": [
    {
     "name": "stdout",
     "output_type": "stream",
     "text": [
      "2x2 Matrix:\n",
      " [[1 3]\n",
      " [5 7]]\n"
     ]
    }
   ],
   "source": [
    "import numpy as np\n",
    "# create a 2x2 matrix\n",
    "# np.array([[1,2,3,6,5],\n",
    "#           [0,2,5,6,9]])\n",
    "matrix1 = np.array([[1, 3], \n",
    "                   [5, 7]])\n",
    "\n",
    "print(\"2x2 Matrix:\\n\",matrix1)"
   ]
  },
  {
   "cell_type": "code",
   "execution_count": 2,
   "id": "79565bdd",
   "metadata": {},
   "outputs": [
    {
     "name": "stdout",
     "output_type": "stream",
     "text": [
      "\n",
      "3x3 Matrix:\n",
      " [[ 2  3  5]\n",
      " [ 7 14 21]\n",
      " [ 1  3  5]]\n"
     ]
    }
   ],
   "source": [
    "# create a 3x3  matrix\n",
    "matrix2 = np.array([[2, 3, 5],\n",
    "                    [7, 14, 21],\n",
    "                    [1, 3, 5]])\n",
    "                    \n",
    "print(\"\\n3x3 Matrix:\\n\",matrix2)"
   ]
  },
  {
   "cell_type": "markdown",
   "id": "1b05698a",
   "metadata": {},
   "source": [
    "# Diagonal Matrix"
   ]
  },
  {
   "cell_type": "code",
   "execution_count": 5,
   "id": "bf9d94ad",
   "metadata": {},
   "outputs": [
    {
     "name": "stdout",
     "output_type": "stream",
     "text": [
      "[[1 2 3]\n",
      " [1 2 3]\n",
      " [1 2 3]]\n"
     ]
    }
   ],
   "source": [
    "# diagonal matrix\n",
    "from numpy import array\n",
    "from numpy import diag\n",
    "M = array([[1, 2, 3], [1, 2, 3], [1, 2, 3]])\n",
    "print(M)\n"
   ]
  },
  {
   "cell_type": "code",
   "execution_count": 6,
   "id": "be89477e",
   "metadata": {},
   "outputs": [
    {
     "name": "stdout",
     "output_type": "stream",
     "text": [
      "[1 2 3]\n",
      "\n",
      "[[1 0 0]\n",
      " [0 2 0]\n",
      " [0 0 3]]\n"
     ]
    }
   ],
   "source": [
    "# extract diagonal vector\n",
    "d = diag(M)\n",
    "print(d)\n",
    "print()\n",
    "# create diagonal matrix from vector\n",
    "D = diag(d)\n",
    "print(D)"
   ]
  },
  {
   "cell_type": "markdown",
   "id": "e284be57",
   "metadata": {},
   "source": [
    "# Idendity matrix"
   ]
  },
  {
   "cell_type": "code",
   "execution_count": 8,
   "id": "f173f1ba",
   "metadata": {},
   "outputs": [
    {
     "name": "stdout",
     "output_type": "stream",
     "text": [
      "[[1. 0. 0. 0.]\n",
      " [0. 1. 0. 0.]\n",
      " [0. 0. 1. 0.]\n",
      " [0. 0. 0. 1.]]\n"
     ]
    }
   ],
   "source": [
    "# identity matrix\n",
    "from numpy import identity\n",
    "I = identity(4)\n",
    "print(I)"
   ]
  },
  {
   "cell_type": "markdown",
   "id": "c7d4dc16",
   "metadata": {},
   "source": [
    "# Matrix multiplication or Dot product"
   ]
  },
  {
   "cell_type": "code",
   "execution_count": 13,
   "id": "fd3f6399",
   "metadata": {},
   "outputs": [
    {
     "name": "stdout",
     "output_type": "stream",
     "text": [
      "multiplication of vectors \n",
      " [[ 2 18]\n",
      " [20 56]]\n",
      "matrix1 x matrix2: \n",
      " [[14 30]\n",
      " [38 86]]\n"
     ]
    }
   ],
   "source": [
    "# create two matrices\n",
    "matrix1 = np.array([[1, 3], [5, 7]])\n",
    "             \n",
    "matrix2 = np.array([[2, 6], \n",
    "                    [4, 8]])\n",
    "\n",
    "# calculate the dot product of the two matrices\n",
    "result = np.multiply(matrix1, matrix2)\n",
    "print(\"multiplication of vectors \\n\",result)\n",
    "\n",
    "result1 = np.dot(matrix1, matrix2)\n",
    "print(\"matrix1 x matrix2: \\n\",result1)\n"
   ]
  },
  {
   "cell_type": "markdown",
   "id": "bf88897d",
   "metadata": {},
   "source": [
    "# matrix-vector multiplication"
   ]
  },
  {
   "cell_type": "code",
   "execution_count": 16,
   "id": "1b79d2bd",
   "metadata": {},
   "outputs": [
    {
     "name": "stdout",
     "output_type": "stream",
     "text": [
      "[1.5 3.5 5.5]\n",
      "[1.5 3.5 5.5]\n"
     ]
    }
   ],
   "source": [
    "# matrix-vector multiplication\n",
    "from numpy import array\n",
    "A = array([[1, 2], [3, 4], [5, 6]])\n",
    "# print(A)\n",
    "B = array([0.5, 0.5])\n",
    "# print(B)\n",
    "C = A.dot(B)\n",
    "print(C)\n",
    "D = A @ B\n",
    "print(D)"
   ]
  },
  {
   "cell_type": "code",
   "execution_count": 17,
   "id": "ff5a83e4",
   "metadata": {},
   "outputs": [
    {
     "name": "stdout",
     "output_type": "stream",
     "text": [
      "[[14 30]\n",
      " [38 86]]\n"
     ]
    }
   ],
   "source": [
    "import numpy as np\n",
    "array1 = np.array([[1, 3], \n",
    "                   [5, 7]])\n",
    "array2 = np.array([[2, 4], \n",
    "                   [6, 8]])\n",
    "# inner() for 2D arrays\n",
    "result = np.inner(array1, array2)\n",
    "print(result)"
   ]
  },
  {
   "cell_type": "code",
   "execution_count": 18,
   "id": "505081b2",
   "metadata": {},
   "outputs": [
    {
     "name": "stdout",
     "output_type": "stream",
     "text": [
      "[[ 2  4  6  8]\n",
      " [ 6 12 18 24]\n",
      " [10 20 30 40]\n",
      " [14 28 42 56]]\n"
     ]
    }
   ],
   "source": [
    "# outer() to perform outer multiplication\n",
    "result = np.outer(array1, array2)\n",
    "print(result)"
   ]
  },
  {
   "cell_type": "code",
   "execution_count": 19,
   "id": "7c892a78",
   "metadata": {},
   "outputs": [
    {
     "name": "stdout",
     "output_type": "stream",
     "text": [
      "[-2.    2.25]\n"
     ]
    }
   ],
   "source": [
    "import numpy as np\n",
    "# define the coefficient matrix A\n",
    "A = np.array([[2, 4], \n",
    "             [6, 8]])\n",
    "# define the constant vector b\n",
    "b = np.array([5, 6])\n",
    "# solve the system of linear equations Ax = b\n",
    "x = np.linalg.solve(A, b)\n",
    "print(x)"
   ]
  },
  {
   "cell_type": "markdown",
   "id": "3022e651",
   "metadata": {},
   "source": [
    "# transpose of metrix"
   ]
  },
  {
   "cell_type": "code",
   "execution_count": 24,
   "id": "34244fef",
   "metadata": {},
   "outputs": [
    {
     "name": "stdout",
     "output_type": "stream",
     "text": [
      "[[1 5]\n",
      " [3 7]]\n",
      "[[1 5]\n",
      " [3 7]]\n"
     ]
    }
   ],
   "source": [
    "# create a matrix\n",
    "matrix1 = np.array([[1, 3], [5, 7]])\n",
    "\n",
    "# get transpose of matrix1\n",
    "result = np.transpose(matrix1)\n",
    "result_1 = matrix1.T\n",
    "\n",
    "print(result)\n",
    "print(result_1)\n"
   ]
  },
  {
   "cell_type": "code",
   "execution_count": 25,
   "id": "1a4c6123",
   "metadata": {},
   "outputs": [
    {
     "data": {
      "text/plain": [
       "array([[-0.875,  0.625],\n",
       "       [ 0.375, -0.125]])"
      ]
     },
     "execution_count": 25,
     "metadata": {},
     "output_type": "execute_result"
    }
   ],
   "source": [
    "inv_m = np.linalg.inv(result)\n",
    "inv_m"
   ]
  },
  {
   "cell_type": "markdown",
   "id": "c74061bc",
   "metadata": {},
   "source": [
    "# inverse of matrix"
   ]
  },
  {
   "cell_type": "code",
   "execution_count": 21,
   "id": "5668e6aa",
   "metadata": {},
   "outputs": [
    {
     "name": "stdout",
     "output_type": "stream",
     "text": [
      "[[-1.11111111 -0.11111111  0.72222222]\n",
      " [ 0.88888889  0.22222222 -0.61111111]\n",
      " [-0.11111111 -0.11111111  0.22222222]]\n"
     ]
    }
   ],
   "source": [
    "#create a 3x3 square matrix\n",
    "matrix1 = np.array([[1, 3, 5], \n",
    "                    [7, 9, 2],\n",
    "                    [4, 6, 8]])\n",
    "\n",
    "#find inverse of matrix1\n",
    "result = np.linalg.inv(matrix1)\n",
    "print(result)"
   ]
  },
  {
   "cell_type": "markdown",
   "id": "ed4a5337",
   "metadata": {},
   "source": [
    "# trace of matrix"
   ]
  },
  {
   "cell_type": "code",
   "execution_count": 26,
   "id": "20ec0f60",
   "metadata": {},
   "outputs": [
    {
     "name": "stdout",
     "output_type": "stream",
     "text": [
      "[[1 2 3]\n",
      " [4 5 6]\n",
      " [7 8 9]]\n",
      "15\n"
     ]
    }
   ],
   "source": [
    "from numpy import trace\n",
    "A = np.array([[1, 2, 3], \n",
    "              [4, 5, 6], \n",
    "              [7, 8, 9]])\n",
    "print(A)\n",
    "B = trace(A)\n",
    "print(B)"
   ]
  },
  {
   "cell_type": "code",
   "execution_count": null,
   "id": "c27660b3",
   "metadata": {},
   "outputs": [],
   "source": [
    "# Determinant of matrix"
   ]
  },
  {
   "cell_type": "code",
   "execution_count": 27,
   "id": "c7814521",
   "metadata": {},
   "outputs": [
    {
     "name": "stdout",
     "output_type": "stream",
     "text": [
      "-4.999999999999999\n"
     ]
    }
   ],
   "source": [
    "# create a matrix\n",
    "matrix1 = np.array([[1, 2, 3], \n",
    "                    [4, 5, 1],\n",
    "                    [2, 3, 4]])\n",
    "# find determinant of matrix1\n",
    "result = np.linalg.det(matrix1)\n",
    "print(result)"
   ]
  },
  {
   "cell_type": "code",
   "execution_count": null,
   "id": "75609ed0",
   "metadata": {},
   "outputs": [],
   "source": [
    "# Rank of determinant"
   ]
  },
  {
   "cell_type": "code",
   "execution_count": 28,
   "id": "821894a1",
   "metadata": {},
   "outputs": [
    {
     "name": "stdout",
     "output_type": "stream",
     "text": [
      "[1 2 3]\n",
      "1\n",
      "[0 0 0 0 0]\n",
      "0\n"
     ]
    }
   ],
   "source": [
    "from numpy.linalg import matrix_rank\n",
    "# rank\n",
    "v1 = np.array([1,2,3])\n",
    "print(v1)\n",
    "vr1 = matrix_rank(v1)\n",
    "print(vr1)\n",
    "# zero rank\n",
    "v2 = np.array([0,0,0,0,0])\n",
    "print(v2)\n",
    "vr2 = matrix_rank(v2)\n",
    "print(vr2)"
   ]
  },
  {
   "cell_type": "markdown",
   "id": "bf35b65a",
   "metadata": {},
   "source": [
    "# flatten of matrix"
   ]
  },
  {
   "cell_type": "code",
   "execution_count": 29,
   "id": "bcdf8e54",
   "metadata": {},
   "outputs": [
    {
     "name": "stdout",
     "output_type": "stream",
     "text": [
      "Flattened 2x3 matrix: [1 2 3 4 5 7 6 5 8]\n"
     ]
    }
   ],
   "source": [
    "# create a 2x3 matrix\n",
    "matrix1 = np.array([[1, 2, 3], \n",
    "                    [4, 5, 7],\n",
    "                   [6,5,8]])\n",
    "\n",
    "result = matrix1.flatten()\n",
    "print(\"Flattened 2x3 matrix:\", result)"
   ]
  },
  {
   "cell_type": "markdown",
   "id": "8cd1b607",
   "metadata": {},
   "source": [
    "# set operation in numpy"
   ]
  },
  {
   "cell_type": "code",
   "execution_count": null,
   "id": "32a5e326",
   "metadata": {},
   "outputs": [],
   "source": [
    "# union\n",
    "# Intersection\n",
    "# setdiffrence"
   ]
  },
  {
   "cell_type": "code",
   "execution_count": 33,
   "id": "659f4729",
   "metadata": {},
   "outputs": [
    {
     "name": "stdout",
     "output_type": "stream",
     "text": [
      "[0 1 2 3 5]\n"
     ]
    }
   ],
   "source": [
    "A = np.array([1, 3, 5])\n",
    "B = np.array([0, 2, 3])\n",
    "# union of two arrays\n",
    "result = np.union1d(A, B)\n",
    "print(result)  "
   ]
  },
  {
   "cell_type": "code",
   "execution_count": 31,
   "id": "16e2980a",
   "metadata": {},
   "outputs": [
    {
     "name": "stdout",
     "output_type": "stream",
     "text": [
      "[3]\n"
     ]
    }
   ],
   "source": [
    "# intersection of two arrays\n",
    "result = np.intersect1d(A, B)\n",
    "print(result) "
   ]
  },
  {
   "cell_type": "code",
   "execution_count": 32,
   "id": "5d70d7c3",
   "metadata": {},
   "outputs": [
    {
     "name": "stdout",
     "output_type": "stream",
     "text": [
      "[1 5]\n"
     ]
    }
   ],
   "source": [
    "# difference of two arrays\n",
    "result = np.setdiff1d(A,B)\n",
    "print(result)"
   ]
  },
  {
   "cell_type": "markdown",
   "id": "37763f3a",
   "metadata": {},
   "source": [
    "# Generting random numbers"
   ]
  },
  {
   "cell_type": "code",
   "execution_count": 34,
   "id": "bba5d8b8",
   "metadata": {},
   "outputs": [
    {
     "name": "stdout",
     "output_type": "stream",
     "text": [
      "9\n"
     ]
    }
   ],
   "source": [
    "# generate random integer from 0 to 9\n",
    "random_number = np.random.randint(0, 10)\n",
    "print(random_number)"
   ]
  },
  {
   "cell_type": "code",
   "execution_count": 37,
   "id": "58ee6169",
   "metadata": {},
   "outputs": [
    {
     "name": "stdout",
     "output_type": "stream",
     "text": [
      "204\n"
     ]
    }
   ],
   "source": [
    "random_number = np.random.randint(100, 1000)\n",
    "print(random_number)"
   ]
  },
  {
   "cell_type": "code",
   "execution_count": 38,
   "id": "59ba3f34",
   "metadata": {},
   "outputs": [
    {
     "name": "stdout",
     "output_type": "stream",
     "text": [
      "[9 1 4 8 5]\n"
     ]
    }
   ],
   "source": [
    "# generate 1D array of 5 random integers between 0 and 9\n",
    "integer_array = np.random.randint(0, 10, 5)\n",
    "print(integer_array)"
   ]
  },
  {
   "cell_type": "code",
   "execution_count": 43,
   "id": "9f5d1d16",
   "metadata": {},
   "outputs": [
    {
     "name": "stdout",
     "output_type": "stream",
     "text": [
      "2D Random Integer Array:\n",
      " [[0 2 2 5]\n",
      " [1 3 3 9]\n",
      " [0 9 4 0]\n",
      " [7 2 9 5]]\n"
     ]
    }
   ],
   "source": [
    "# generate 2D array of shape (3, 4) with random integers\n",
    "result = np.random.randint(0, 10, (4,4))\n",
    "print(\"2D Random Integer Array:\\n\",result)"
   ]
  },
  {
   "cell_type": "code",
   "execution_count": 41,
   "id": "46cc37bb",
   "metadata": {},
   "outputs": [
    {
     "name": "stdout",
     "output_type": "stream",
     "text": [
      "2\n"
     ]
    }
   ],
   "source": [
    "# create an array of integers from 1 to 5\n",
    "array1 = np.array([1, 2, 3, 4, 5])\n",
    "# choose a random number from array1\n",
    "random_choice = np.random.choice(array1)\n",
    "print(random_choice)"
   ]
  },
  {
   "cell_type": "code",
   "execution_count": 42,
   "id": "128a2124",
   "metadata": {},
   "outputs": [
    {
     "name": "stdout",
     "output_type": "stream",
     "text": [
      "[0.10865375 0.12766305 0.21251601 0.43022733 0.13446991]\n"
     ]
    }
   ],
   "source": [
    "# generate random float-point number between 0 and 1\n",
    "random_number = np.random.rand(5)\n",
    "print(random_number)"
   ]
  },
  {
   "cell_type": "markdown",
   "id": "beb4129d",
   "metadata": {},
   "source": [
    "# NumPy Interpolation"
   ]
  },
  {
   "cell_type": "code",
   "execution_count": 48,
   "id": "124c6093",
   "metadata": {},
   "outputs": [
    {
     "data": {
      "text/plain": [
       "array([6, 8, 6, 6, 7])"
      ]
     },
     "execution_count": 48,
     "metadata": {},
     "output_type": "execute_result"
    }
   ],
   "source": [
    "np.random.seed(10)\n",
    "np.random.binomial(8,0.80,size = 5)"
   ]
  },
  {
   "cell_type": "code",
   "execution_count": 50,
   "id": "80bc0763",
   "metadata": {},
   "outputs": [
    {
     "name": "stdout",
     "output_type": "stream",
     "text": [
      "The value of gold on day 5 is 60.333333333333336\n"
     ]
    }
   ],
   "source": [
    "day = np.array([2, 4, 7])\n",
    "gold_price = np.array([55, 58, 65])\n",
    "\n",
    "# find the value of gold on day 3\n",
    "day3_value = np.interp(5, day, gold_price)\n",
    "\n",
    "print(\"The value of gold on day 5 is\", day3_value)"
   ]
  },
  {
   "cell_type": "markdown",
   "id": "12d8d7b1",
   "metadata": {},
   "source": [
    "# numpy date and time"
   ]
  },
  {
   "cell_type": "code",
   "execution_count": 53,
   "id": "b339910a",
   "metadata": {},
   "outputs": [
    {
     "name": "stdout",
     "output_type": "stream",
     "text": [
      "<class 'numpy.datetime64'>\n",
      "Year:  2023\n",
      "Month:  2023-04\n",
      "Day:  2023-04-29\n",
      "Hour:  2023-04-29T10\n",
      "Minute:  2023-04-29T10:30\n",
      "Second:  2023-04-29T10:30:15\n"
     ]
    }
   ],
   "source": [
    "# use datetime64() for different time units\n",
    "year = np.datetime64('2023', 'Y')\n",
    "month = np.datetime64('2023-04', 'M')\n",
    "day = np.datetime64('2023-04-29', 'D')\n",
    "hour = np.datetime64('2023-04-29T10', 'h')\n",
    "minute = np.datetime64('2023-04-29T10:30', 'm')\n",
    "second = np.datetime64('2023-04-29T10:30:15', 's')\n",
    "print(type(second))\n",
    "print(\"Year: \", year)\n",
    "print(\"Month: \", month)\n",
    "print(\"Day: \", day)\n",
    "print(\"Hour: \", hour)\n",
    "print(\"Minute: \", minute)\n",
    "print(\"Second: \", second)"
   ]
  },
  {
   "cell_type": "code",
   "execution_count": 54,
   "id": "a7766af2",
   "metadata": {},
   "outputs": [
    {
     "name": "stdout",
     "output_type": "stream",
     "text": [
      "<class 'datetime.datetime'>\n"
     ]
    }
   ],
   "source": [
    "from datetime import datetime\n",
    "\n",
    "# create a datetime64 object\n",
    "dt64 = np.datetime64('2023-04-29T12:34:56')\n",
    "\n",
    "# convert datetime64 to datetime object\n",
    "dt = dt64.astype(datetime)\n",
    "\n",
    "# print the datetime object\n",
    "print(type(dt))"
   ]
  },
  {
   "cell_type": "code",
   "execution_count": 55,
   "id": "ab923815",
   "metadata": {},
   "outputs": [
    {
     "name": "stdout",
     "output_type": "stream",
     "text": [
      "['2023-04-01' '2023-04-02' '2023-04-03' '2023-04-04' '2023-04-05'\n",
      " '2023-04-06' '2023-04-07' '2023-04-08' '2023-04-09' '2023-04-10'\n",
      " '2023-04-11' '2023-04-12' '2023-04-13' '2023-04-14' '2023-04-15'\n",
      " '2023-04-16' '2023-04-17' '2023-04-18' '2023-04-19' '2023-04-20'\n",
      " '2023-04-21' '2023-04-22' '2023-04-23' '2023-04-24' '2023-04-25'\n",
      " '2023-04-26' '2023-04-27' '2023-04-28' '2023-04-29' '2023-04-30'\n",
      " '2023-05-01' '2023-05-02' '2023-05-03' '2023-05-04' '2023-05-05'\n",
      " '2023-05-06' '2023-05-07' '2023-05-08' '2023-05-09' '2023-05-10']\n"
     ]
    }
   ],
   "source": [
    "# create a range of dates from 2023-04-01 to 2023-04-10\n",
    "dates = np.arange('2023-04-01', '2023-05-11', dtype='datetime64[D]')\n",
    "# print the dates\n",
    "print(dates)"
   ]
  },
  {
   "cell_type": "code",
   "execution_count": 57,
   "id": "d2afe1a6",
   "metadata": {},
   "outputs": [
    {
     "name": "stdout",
     "output_type": "stream",
     "text": [
      "Today's date: 2023-12-04\n",
      "Tomorrow's date: 2023-12-05\n",
      "Number of days between 2023-05-01 and 2023-04-01 is 30 days\n"
     ]
    }
   ],
   "source": [
    "# create a datetime64 object for today\n",
    "today = np.datetime64('today')\n",
    "# add one day to today's date\n",
    "tomorrow = today + np.timedelta64(1, 'D')\n",
    "# create datetime64 objects for two dates\n",
    "date1 = np.datetime64('2023-05-01')\n",
    "date2 = np.datetime64('2023-04-01')\n",
    "# calculate the number of days between the two dates\n",
    "num_days = date1 - date2\n",
    "# display the results\n",
    "print(\"Today's date:\", today)\n",
    "print(\"Tomorrow's date:\", tomorrow)\n",
    "print(\"Number of days between\", date1, \"and\", date2, \"is\", num_days)"
   ]
  },
  {
   "cell_type": "code",
   "execution_count": 58,
   "id": "ca1cbaf4",
   "metadata": {},
   "outputs": [
    {
     "name": "stdout",
     "output_type": "stream",
     "text": [
      "Number of business days between 2023-04-01 and 2023-05-01 is 20\n"
     ]
    }
   ],
   "source": [
    "# create datetime64 objects for two dates\n",
    "date1 = np.datetime64('2023-04-01')\n",
    "date2 = np.datetime64('2023-05-01')\n",
    "# calculate the number of business days between the two dates\n",
    "num_business_days = np.busday_count(date1, date2)\n",
    "# display the number of business days between the two dates\n",
    "print(\"Number of business days between\", date1, \"and\", date2, \"is\", num_business_days)"
   ]
  },
  {
   "cell_type": "markdown",
   "id": "be02dcfb",
   "metadata": {},
   "source": [
    "# numpy file I/O"
   ]
  },
  {
   "cell_type": "code",
   "execution_count": 59,
   "id": "c2af11f1",
   "metadata": {},
   "outputs": [],
   "source": [
    "array1 = np.array([[2, 4, 6], \n",
    "                  [8, 10, 12]])\n",
    "# save the array to a file\n",
    "np.save('file1.npy', array1)\n"
   ]
  },
  {
   "cell_type": "code",
   "execution_count": 60,
   "id": "5f3b9fd0",
   "metadata": {},
   "outputs": [
    {
     "name": "stdout",
     "output_type": "stream",
     "text": [
      "[[ 2  4  6]\n",
      " [ 8 10 12]]\n"
     ]
    }
   ],
   "source": [
    "# load the saved NumPy array\n",
    "loaded_array = np.load('file1.npy')\n",
    "# display the loaded array\n",
    "print(loaded_array)"
   ]
  },
  {
   "cell_type": "code",
   "execution_count": 64,
   "id": "7c2718e7",
   "metadata": {},
   "outputs": [],
   "source": [
    "# create two NumPy arrays\n",
    "array1 = np.array([2, 6, 10])\n",
    "array2 = np.array([4, 8, 12])\n",
    "\n",
    "# save the two arrays into a single file\n",
    "np.savez('file2.npz', file1 = array1, file2 = dates)\n"
   ]
  },
  {
   "cell_type": "code",
   "execution_count": 65,
   "id": "9810348c",
   "metadata": {},
   "outputs": [
    {
     "name": "stdout",
     "output_type": "stream",
     "text": [
      "['2023-04-01' '2023-04-02' '2023-04-03' '2023-04-04' '2023-04-05'\n",
      " '2023-04-06' '2023-04-07' '2023-04-08' '2023-04-09' '2023-04-10'\n",
      " '2023-04-11' '2023-04-12' '2023-04-13' '2023-04-14' '2023-04-15'\n",
      " '2023-04-16' '2023-04-17' '2023-04-18' '2023-04-19' '2023-04-20'\n",
      " '2023-04-21' '2023-04-22' '2023-04-23' '2023-04-24' '2023-04-25'\n",
      " '2023-04-26' '2023-04-27' '2023-04-28' '2023-04-29' '2023-04-30'\n",
      " '2023-05-01' '2023-05-02' '2023-05-03' '2023-05-04' '2023-05-05'\n",
      " '2023-05-06' '2023-05-07' '2023-05-08' '2023-05-09' '2023-05-10']\n"
     ]
    }
   ],
   "source": [
    "# load the saved arrays \n",
    "load_data = np.load('file2.npz')\n",
    "\n",
    "# retrieve the arrays using their names\n",
    "# array1 = load_data['file1']\n",
    "array2 = load_data['file2']\n",
    "\n",
    "# display the loaded arrays\n",
    "print(array2)"
   ]
  },
  {
   "cell_type": "code",
   "execution_count": null,
   "id": "49081f8d",
   "metadata": {},
   "outputs": [],
   "source": []
  }
 ],
 "metadata": {
  "kernelspec": {
   "display_name": "Python 3 (ipykernel)",
   "language": "python",
   "name": "python3"
  },
  "language_info": {
   "codemirror_mode": {
    "name": "ipython",
    "version": 3
   },
   "file_extension": ".py",
   "mimetype": "text/x-python",
   "name": "python",
   "nbconvert_exporter": "python",
   "pygments_lexer": "ipython3",
   "version": "3.11.5"
  }
 },
 "nbformat": 4,
 "nbformat_minor": 5
}
